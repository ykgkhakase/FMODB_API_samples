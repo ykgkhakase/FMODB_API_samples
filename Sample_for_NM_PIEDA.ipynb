{
 "cells": [
  {
   "cell_type": "code",
   "execution_count": 1,
   "id": "81045ba6",
   "metadata": {},
   "outputs": [],
   "source": [
    "import urllib\n",
    "import json\n",
    "import pprint as pp"
   ]
  },
  {
   "cell_type": "code",
   "execution_count": 2,
   "id": "23015bd3",
   "metadata": {},
   "outputs": [],
   "source": [
    "FmodbId = \"JM5M9\"\n",
    "\n",
    "#　フラグメント番号の範囲は、構造をみながら自身で調べる必要がある。\n",
    "Nfragments = \"1-426\"\n",
    "Mfragments = \"426-606\"\n",
    "\n",
    "# 逆も可能\n",
    "#Mfragments = \"1-426\"\n",
    "#Nfragments = \"426-606\"\n",
    "\n",
    "\n",
    "url = f\"http://drugdesign.riken.jp/fcgi-bin/fmodbrest/claculate/results/pieda/{Nfragments}/against/{Mfragments}/{FmodbId}\"\n"
   ]
  },
  {
   "cell_type": "code",
   "execution_count": 3,
   "id": "9661ae19",
   "metadata": {},
   "outputs": [
    {
     "data": {
      "text/plain": [
       "'http://drugdesign.riken.jp/fcgi-bin/fmodbrest/claculate/results/pieda/1-426/against/426-606/JM5M9'"
      ]
     },
     "execution_count": 3,
     "metadata": {},
     "output_type": "execute_result"
    }
   ],
   "source": [
    "url"
   ]
  },
  {
   "cell_type": "code",
   "execution_count": 4,
   "id": "8cd4d206",
   "metadata": {},
   "outputs": [],
   "source": [
    "def GetData(url):\n",
    "    return json.loads(urllib.request.urlopen(url).read())"
   ]
  },
  {
   "cell_type": "code",
   "execution_count": 5,
   "id": "2bd7f59b",
   "metadata": {},
   "outputs": [],
   "source": [
    "data = GetData(url)"
   ]
  },
  {
   "cell_type": "code",
   "execution_count": 6,
   "id": "bcad0b5d",
   "metadata": {},
   "outputs": [],
   "source": [
    "#data"
   ]
  },
  {
   "cell_type": "code",
   "execution_count": 7,
   "id": "0fdb7950",
   "metadata": {},
   "outputs": [
    {
     "name": "stdout",
     "output_type": "stream",
     "text": [
      "2, ClosestDist=2.43, ES=0.03,  EX=0.59, CTmix=-0.4, DI=-1.48\n",
      "26, ClosestDist=1.7, ES=-165.28,  EX=52.29, CTmix=-17.95, DI=-18.4\n",
      "27, ClosestDist=2.39, ES=-20.12,  EX=9.69, CTmix=-5.4, DI=-10.61\n",
      "28, ClosestDist=2.06, ES=-7.85,  EX=5.98, CTmix=-3.43, DI=-6.13\n",
      "31, ClosestDist=2.09, ES=-26.91,  EX=13.91, CTmix=-8.48, DI=-17.08\n",
      "32, ClosestDist=1.71, ES=-45.62,  EX=27.85, CTmix=-11.2, DI=-10.2\n",
      "33, ClosestDist=1.64, ES=-34.79,  EX=20.66, CTmix=-9.98, DI=-12.63\n",
      "52, ClosestDist=2.25, ES=-6.07,  EX=7.36, CTmix=-3.63, DI=-9.7\n",
      "53, ClosestDist=1.78, ES=-9.1,  EX=11.32, CTmix=-6.25, DI=-6.4\n",
      "54, ClosestDist=1.94, ES=-6.87,  EX=10.95, CTmix=-5.32, DI=-5.95\n",
      "56, ClosestDist=1.74, ES=-22.25,  EX=12.71, CTmix=-6.58, DI=-6.04\n",
      "58, ClosestDist=1.88, ES=-15.36,  EX=10.34, CTmix=-4.57, DI=-6.84\n",
      "96, ClosestDist=1.78, ES=-21.29,  EX=18.73, CTmix=-6.62, DI=-8.52\n",
      "98, ClosestDist=2.22, ES=-5.44,  EX=4.42, CTmix=-3.41, DI=-8.96\n",
      "99, ClosestDist=2.17, ES=-3.37,  EX=3.7, CTmix=-2.23, DI=-2.15\n",
      "100, ClosestDist=1.79, ES=-168.28,  EX=26.48, CTmix=-8.56, DI=-10.48\n",
      "101, ClosestDist=1.77, ES=-46.49,  EX=17.41, CTmix=-7.53, DI=-12.34\n",
      "105, ClosestDist=2.51, ES=0.56,  EX=2.03, CTmix=-0.93, DI=-2.93\n",
      "244, ClosestDist=1.86, ES=-23.73,  EX=12.61, CTmix=-6.44, DI=-5.83\n",
      "245, ClosestDist=1.71, ES=-14.47,  EX=16.74, CTmix=-6.33, DI=-6.51\n",
      "247, ClosestDist=2.36, ES=-2.35,  EX=1.91, CTmix=-1.08, DI=-3.68\n",
      "306, ClosestDist=2.65, ES=-8.21,  EX=1.07, CTmix=-0.72, DI=-1.3\n",
      "307, ClosestDist=1.86, ES=-41.78,  EX=14.25, CTmix=-6.48, DI=-8.46\n",
      "404, ClosestDist=1.73, ES=-120.33,  EX=20.85, CTmix=-10.39, DI=-7.06\n",
      "423, ClosestDist=1.77, ES=-31.58,  EX=18.77, CTmix=-7.05, DI=-7.71\n",
      "424, ClosestDist=1.85, ES=-37.71,  EX=9.24, CTmix=-4.86, DI=-5.62\n"
     ]
    }
   ],
   "source": [
    "pieda_within_dist = [x for x in data['SumOfPiedaForEachFragment']['Lists'] if x['Dist'] < 2.8]\n",
    "for e in pieda_within_dist:\n",
    "    print(f\"{e['FragmentNumber']}, ClosestDist={e['Dist']}, ES={e['PiedaEs']},  EX={e['PiedaEx']}, CTmix={e['PiedaCtPlusMix']}, DI={e['PiedaDiMp2']}\")"
   ]
  },
  {
   "cell_type": "code",
   "execution_count": 8,
   "id": "2b0cdcf9",
   "metadata": {},
   "outputs": [
    {
     "data": {
      "text/plain": [
       "('JM5M9', -889.5)"
      ]
     },
     "execution_count": 8,
     "metadata": {},
     "output_type": "execute_result"
    }
   ],
   "source": [
    "# \n",
    "data['FmodbId'], data['SumOfIfie']"
   ]
  }
 ],
 "metadata": {
  "kernelspec": {
   "display_name": "Python 3 (ipykernel)",
   "language": "python",
   "name": "python3"
  },
  "language_info": {
   "codemirror_mode": {
    "name": "ipython",
    "version": 3
   },
   "file_extension": ".py",
   "mimetype": "text/x-python",
   "name": "python",
   "nbconvert_exporter": "python",
   "pygments_lexer": "ipython3",
   "version": "3.7.11"
  }
 },
 "nbformat": 4,
 "nbformat_minor": 5
}
