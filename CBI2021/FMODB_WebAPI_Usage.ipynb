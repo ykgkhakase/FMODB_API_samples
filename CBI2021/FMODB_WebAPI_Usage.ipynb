{
  "nbformat": 4,
  "nbformat_minor": 0,
  "metadata": {
    "colab": {
      "name": "FMODB_WebAPI_Usage.ipynb",
      "provenance": []
    },
    "kernelspec": {
      "name": "python3",
      "display_name": "Python 3"
    },
    "language_info": {
      "name": "python"
    }
  },
  "cells": [
    {
      "cell_type": "code",
      "metadata": {
        "id": "chfD-C4cDgDg"
      },
      "source": [
        "import urllib\n",
        "import json\n",
        "import urllib.request\n",
        "from IPython.display import display, Markdown"
      ],
      "execution_count": 1,
      "outputs": []
    },
    {
      "cell_type": "code",
      "metadata": {
        "id": "uz12WareDrkK"
      },
      "source": [
        "usage_url = \"https://drugdesign.riken.jp/fcgi-bin/fmodbrest/\""
      ],
      "execution_count": 2,
      "outputs": []
    },
    {
      "cell_type": "code",
      "metadata": {
        "id": "wmyBcnB-Dw5z"
      },
      "source": [
        "def GetText(url):\n",
        "    return urllib.request.urlopen(url).read()\n",
        "def GetData(url):\n",
        "    return json.loads(urllib.request.urlopen(url).read())"
      ],
      "execution_count": 3,
      "outputs": []
    },
    {
      "cell_type": "code",
      "metadata": {
        "colab": {
          "base_uri": "https://localhost:8080/"
        },
        "id": "p-sRybB7ETPD",
        "outputId": "11c420ac-85d8-4da2-9bf3-ac4532d4e895"
      },
      "source": [
        "!python -V"
      ],
      "execution_count": 4,
      "outputs": [
        {
          "output_type": "stream",
          "name": "stdout",
          "text": [
            "Python 3.7.12\n"
          ]
        }
      ]
    },
    {
      "cell_type": "code",
      "metadata": {
        "id": "whWHiL_-D7c4"
      },
      "source": [
        "#display(Markdown(GetText(usage_url).decode()))"
      ],
      "execution_count": 5,
      "outputs": []
    },
    {
      "cell_type": "code",
      "metadata": {
        "colab": {
          "base_uri": "https://localhost:8080/"
        },
        "id": "b6v060X_GShK",
        "outputId": "68d8aa54-d159-40f6-c12f-52b35a8a06c0"
      },
      "source": [
        "print(GetText(usage_url).decode())"
      ],
      "execution_count": 6,
      "outputs": [
        {
          "output_type": "stream",
          "name": "stdout",
          "text": [
            "# For drugdesign server mode (beta version)\n",
            "\n",
            "# FMODB WebApi Home\n",
            "\n",
            "If you can see this page, the API service is normally active.\n",
            "\n",
            "# Usage\n",
            "\n",
            "## Show this page.\n",
            "```\n",
            "https://drugdesign.riken.jp/fcgi-bin/fmodbrest/\n",
            "```\n",
            "\n",
            "## Search FMODB IDs\n",
            "\n",
            "search the FMO data using \"1ERE\" of PDB IDs\n",
            "\n",
            "```\n",
            "https://drugdesign.riken.jp/fcgi-bin/fmodbrest/search/pdbid/1ERE\n",
            "```\n",
            "\n",
            "search the FMO data having \"estrogen beta\" keywords described in Uniprot entry.\n",
            "\n",
            "```\n",
            "https://drugdesign.riken.jp/fcgi-bin/fmodbrest/search/keyword/uniprot/estrogen+beta\n",
            "```\n",
            "\n",
            "## Check a FMODB ID itself being registerd. \n",
            "\n",
            "```\n",
            "https://drugdesign.riken.jp/fcgi-bin/fmodbrest/search/fmodbid/5P4NP\n",
            "```\n",
            "\n",
            "If the input FMODBID such as \"5P4NP\" is registered in the database, {\"5P4NP\": \"OK\"} will returns.\n",
            "\n",
            "```\n",
            "https://drugdesign.riken.jp/fcgi-bin/fmodbrest/search/fmodbid/5PANB\n",
            "```\n",
            "If the input FMODBID such as \"5PANB\" is NOT registered in the database, {\"5PANB\": \"NG\"} will returns.\n",
            "\n",
            "## Download CPF file of 5P4NP.\n",
            "\n",
            "```\n",
            "https://drugdesign.riken.jp/fcgi-bin/fmodbrest/download/cpf/5P4NP\n",
            "```\n",
            "\n",
            "## Download PIEDA data of the ligand molecule of 1ERE, FMODBID: 5P4NP\n",
            "\n",
            "```\n",
            "https://drugdesign.riken.jp/fcgi-bin/fmodbrest/pieda/5P4NP/237\n",
            "```\n",
            "\n",
            "\"237\" is a fragment number of the ligand molecule which specified by depositer of the calculation data. \n",
            "\n",
            "## Show contents of CPF file  of 5P4NP\n",
            "\n",
            "```\n",
            "https://drugdesign.riken.jp/fcgi-bin/fmodbrest/cpffile/5P4NP\n",
            "```\n",
            "\n",
            "## Dowanlod CPF file of PLAIN text of 5P4NP\n",
            "\n",
            "```\n",
            "https://drugdesign.riken.jp/fcgi-bin/fmodbrest/download/cpf/5P4NP\n",
            "```\n",
            "\n",
            "In terms of download speed, it would be appropriate to handle the gziped cpf files.\n",
            "\n",
            "## Get Category list (experimentally)\n",
            "\n",
            "```\n",
            "https://drugdesign.riken.jp/fcgi-bin/fmodbrest/fmodbstat/GetCategoryList/Any/COVID-19\n",
            "https://drugdesign.riken.jp/fcgi-bin/fmodbrest/fmodbstat/GetCategoryList/Any/GPCR\n",
            "https://drugdesign.riken.jp/fcgi-bin/fmodbrest/fmodbstat/GetCategoryList/Any/Main%20protease\n",
            "```\n",
            "\n",
            "A space character may be encoded to \"%20\" for URL.\n",
            "\n",
            "## Get all of MainTable contents (experimentally)\n",
            "\n",
            "```\n",
            "https://drugdesign.riken.jp/fcgi-bin/fmodbrest/fmodbstat/MainTable/FmodbId/5P4NP\n",
            "```\n",
            "\n",
            "## All of the fragmanat information for FMO calculation of 5P4NP\n",
            "```\n",
            "https://drugdesign.riken.jp/fcgi-bin/fmodbrest/claculate/results/fragment/information/5P4NP\n",
            "```\n",
            "\n",
            "## If depositers optionally register the ligand binding energy, the binding energy can be obtained.\n",
            "```\n",
            "https://drugdesign.riken.jp/fcgi-bin/fmodbrest/depositor/data/manual/ligand/V2G31,GQ2J1,1JLMZ\n",
            "```\n",
            "## If depositers optionally register the ligand fragment, the related information such as fragment nuber of ligand can be obtained.\n",
            "```\n",
            "https://drugdesign.riken.jp/fcgi-bin/fmodbrest/depositor/data/ligandfragment/5P4NP\n",
            "```\n",
            "\n",
            "\n",
            "## Obtain N:1 PIEDA using the registered data.\n",
            "\n",
            "In the case of fragment pairs (1) 1-426 and (2) others for FMODBID: JM5M9\n",
            "\n",
            "```\n",
            "https://drugdesign.riken.jp/fcgi-bin/fmodbrest/claculate/results/pieda/1-426/against/others/JM5M9\n",
            "```\n",
            "\n",
            "In the case of fragment pairs (1) 1-426 and (2) 427-606,\n",
            "\n",
            "```\n",
            "https://drugdesign.riken.jp/fcgi-bin/fmodbrest/claculate/results/pieda/1-426/against/427-606/JM5M9\n",
            "```\n",
            "\n",
            "##\n"
          ]
        }
      ]
    }
  ]
}