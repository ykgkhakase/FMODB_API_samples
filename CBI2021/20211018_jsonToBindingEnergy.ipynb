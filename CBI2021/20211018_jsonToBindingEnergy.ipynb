{
 "cells": [
  {
   "cell_type": "code",
   "execution_count": 1,
   "id": "9a29a7a7",
   "metadata": {},
   "outputs": [],
   "source": [
    "import csv\n",
    "import json"
   ]
  },
  {
   "cell_type": "code",
   "execution_count": 2,
   "id": "a27e6021",
   "metadata": {},
   "outputs": [],
   "source": [
    "import urllib"
   ]
  },
  {
   "cell_type": "code",
   "execution_count": 3,
   "id": "27283fa1",
   "metadata": {},
   "outputs": [],
   "source": [
    "url = \"http://drugdesign.riken.jp/fcgi-bin/fmodbrest/depositor/data/manual/ligand/GQ1L1,1JR2Z,9Y3N2,8JL8Y,N34VQ,JM169,3N63L,JM5M9,V2M81,MM56Z,7J93K,LL1M9\""
   ]
  },
  {
   "cell_type": "markdown",
   "id": "a8a1ff94",
   "metadata": {},
   "source": [
    "```\n",
    "Here is dummy data. Please add pIC50 for each antibody.\n",
    "```"
   ]
  },
  {
   "cell_type": "code",
   "execution_count": 4,
   "id": "7d46a4db",
   "metadata": {},
   "outputs": [],
   "source": [
    "\n",
    "pIC50 = {\n",
    "    \"GQ1L1\":  1,\n",
    "    \"1JR2Z\" :  2,\n",
    "    \"9Y3N2\" : 3,\n",
    "    \"8JL8Y\":  4,\n",
    "    \"N34VQ\":  5,\n",
    "    \"JM169\":  6,\n",
    "    \"3N63L\" : 7,\n",
    "    \"JM5M9\" : 8,\n",
    "    \"V2M81\" : 9,\n",
    "    \"MM56Z\" :10,\n",
    "    \"7J93K\" : 11,\n",
    "    \"LL1M9\": 12,\n",
    "}"
   ]
  },
  {
   "cell_type": "code",
   "execution_count": 5,
   "id": "d9927df4",
   "metadata": {},
   "outputs": [],
   "source": [
    "data  = json.loads(urllib.request.urlopen(url).read())"
   ]
  },
  {
   "cell_type": "code",
   "execution_count": 6,
   "id": "becc8358",
   "metadata": {},
   "outputs": [],
   "source": [
    "raw = {\n",
    "    'FmodbId' : [e['FmodbId'] for e in data['Lists']],\n",
    "    'BindingEnergy' : [float(e['Content']['SUM_TOTAL']) for e in data['Lists']],\n",
    "    'pIC50' :[float(pIC50[e[\"FmodbId\"]]) for e in data['Lists']]\n",
    "}"
   ]
  },
  {
   "cell_type": "code",
   "execution_count": 7,
   "id": "63800823",
   "metadata": {},
   "outputs": [],
   "source": [
    "import pandas as pd"
   ]
  },
  {
   "cell_type": "code",
   "execution_count": 8,
   "id": "be506ec1",
   "metadata": {},
   "outputs": [
    {
     "data": {
      "text/html": [
       "<div>\n",
       "<style scoped>\n",
       "    .dataframe tbody tr th:only-of-type {\n",
       "        vertical-align: middle;\n",
       "    }\n",
       "\n",
       "    .dataframe tbody tr th {\n",
       "        vertical-align: top;\n",
       "    }\n",
       "\n",
       "    .dataframe thead th {\n",
       "        text-align: right;\n",
       "    }\n",
       "</style>\n",
       "<table border=\"1\" class=\"dataframe\">\n",
       "  <thead>\n",
       "    <tr style=\"text-align: right;\">\n",
       "      <th></th>\n",
       "      <th>FmodbId</th>\n",
       "      <th>BindingEnergy</th>\n",
       "      <th>pIC50</th>\n",
       "    </tr>\n",
       "  </thead>\n",
       "  <tbody>\n",
       "    <tr>\n",
       "      <th>0</th>\n",
       "      <td>GQ1L1</td>\n",
       "      <td>-950.6816</td>\n",
       "      <td>1.0</td>\n",
       "    </tr>\n",
       "    <tr>\n",
       "      <th>1</th>\n",
       "      <td>1JR2Z</td>\n",
       "      <td>-765.1978</td>\n",
       "      <td>2.0</td>\n",
       "    </tr>\n",
       "    <tr>\n",
       "      <th>2</th>\n",
       "      <td>9Y3N2</td>\n",
       "      <td>-524.4114</td>\n",
       "      <td>3.0</td>\n",
       "    </tr>\n",
       "    <tr>\n",
       "      <th>3</th>\n",
       "      <td>8JL8Y</td>\n",
       "      <td>-483.8514</td>\n",
       "      <td>4.0</td>\n",
       "    </tr>\n",
       "    <tr>\n",
       "      <th>4</th>\n",
       "      <td>N34VQ</td>\n",
       "      <td>-582.8475</td>\n",
       "      <td>5.0</td>\n",
       "    </tr>\n",
       "    <tr>\n",
       "      <th>5</th>\n",
       "      <td>JM169</td>\n",
       "      <td>-497.5751</td>\n",
       "      <td>6.0</td>\n",
       "    </tr>\n",
       "    <tr>\n",
       "      <th>6</th>\n",
       "      <td>3N63L</td>\n",
       "      <td>-574.7526</td>\n",
       "      <td>7.0</td>\n",
       "    </tr>\n",
       "    <tr>\n",
       "      <th>7</th>\n",
       "      <td>JM5M9</td>\n",
       "      <td>-649.9665</td>\n",
       "      <td>8.0</td>\n",
       "    </tr>\n",
       "    <tr>\n",
       "      <th>8</th>\n",
       "      <td>V2M81</td>\n",
       "      <td>-412.2735</td>\n",
       "      <td>9.0</td>\n",
       "    </tr>\n",
       "    <tr>\n",
       "      <th>9</th>\n",
       "      <td>MM56Z</td>\n",
       "      <td>-403.4968</td>\n",
       "      <td>10.0</td>\n",
       "    </tr>\n",
       "    <tr>\n",
       "      <th>10</th>\n",
       "      <td>7J93K</td>\n",
       "      <td>-564.0591</td>\n",
       "      <td>11.0</td>\n",
       "    </tr>\n",
       "    <tr>\n",
       "      <th>11</th>\n",
       "      <td>LL1M9</td>\n",
       "      <td>-381.9633</td>\n",
       "      <td>12.0</td>\n",
       "    </tr>\n",
       "  </tbody>\n",
       "</table>\n",
       "</div>"
      ],
      "text/plain": [
       "   FmodbId  BindingEnergy  pIC50\n",
       "0    GQ1L1      -950.6816    1.0\n",
       "1    1JR2Z      -765.1978    2.0\n",
       "2    9Y3N2      -524.4114    3.0\n",
       "3    8JL8Y      -483.8514    4.0\n",
       "4    N34VQ      -582.8475    5.0\n",
       "5    JM169      -497.5751    6.0\n",
       "6    3N63L      -574.7526    7.0\n",
       "7    JM5M9      -649.9665    8.0\n",
       "8    V2M81      -412.2735    9.0\n",
       "9    MM56Z      -403.4968   10.0\n",
       "10   7J93K      -564.0591   11.0\n",
       "11   LL1M9      -381.9633   12.0"
      ]
     },
     "execution_count": 8,
     "metadata": {},
     "output_type": "execute_result"
    }
   ],
   "source": [
    "pd.DataFrame.from_dict(raw)"
   ]
  }
 ],
 "metadata": {
  "kernelspec": {
   "display_name": "Python 3",
   "language": "python",
   "name": "python3"
  },
  "language_info": {
   "codemirror_mode": {
    "name": "ipython",
    "version": 3
   },
   "file_extension": ".py",
   "mimetype": "text/x-python",
   "name": "python",
   "nbconvert_exporter": "python",
   "pygments_lexer": "ipython3",
   "version": "3.9.6"
  }
 },
 "nbformat": 4,
 "nbformat_minor": 5
}
